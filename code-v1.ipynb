{
 "cells": [
  {
   "cell_type": "code",
   "execution_count": 1,
   "metadata": {},
   "outputs": [],
   "source": [
    "import pandas as pd\n",
    "data = pd.read_csv(r\"C:\\Users\\mally\\Leiden University [2022 -2024]\\3rd Sem\\API\\Final Project\\songSectionDataClean.csv\")"
   ]
  },
  {
   "cell_type": "code",
   "execution_count": 2,
   "metadata": {},
   "outputs": [],
   "source": [
    "def preprocess(data):\n",
    "    output = []\n",
    "    another_output = []\n",
    "    for i in data:\n",
    "        lst = i.split(\"-\")\n",
    "        if(len(lst)==1):\n",
    "            continue\n",
    "        else:\n",
    "            output.append(' '.join(lst))\n",
    "            another_output.append(lst[0])\n",
    "    return output,another_output"
   ]
  },
  {
   "cell_type": "code",
   "execution_count": 3,
   "metadata": {},
   "outputs": [],
   "source": [
    "newdata = pd.DataFrame()\n",
    "newdata[\"Progression list\"],output = preprocess(data[\"Progression\"])"
   ]
  },
  {
   "cell_type": "code",
   "execution_count": 4,
   "metadata": {},
   "outputs": [
    {
     "data": {
      "text/plain": [
       "59"
      ]
     },
     "execution_count": 4,
     "metadata": {},
     "output_type": "execute_result"
    }
   ],
   "source": [
    "len(data[\"Name\"].unique())"
   ]
  },
  {
   "cell_type": "code",
   "execution_count": 5,
   "metadata": {},
   "outputs": [
    {
     "data": {
      "text/plain": [
       "227"
      ]
     },
     "execution_count": 5,
     "metadata": {},
     "output_type": "execute_result"
    }
   ],
   "source": [
    "newdata[\"Progression list\"].count()"
   ]
  },
  {
   "cell_type": "code",
   "execution_count": 6,
   "metadata": {},
   "outputs": [
    {
     "name": "stdout",
     "output_type": "stream",
     "text": [
      "I: 94\n",
      "VI#: 5\n",
      "v: 1\n",
      "iii: 3\n",
      "vi: 53\n",
      "ii: 12\n",
      "IV: 24\n",
      "V: 11\n",
      "I#: 1\n",
      "III: 7\n",
      "IV#: 1\n",
      "II#: 6\n",
      "II: 2\n",
      "VIIb: 1\n",
      "i: 1\n",
      "V#: 2\n",
      "vii: 3\n"
     ]
    }
   ],
   "source": [
    "count_dict = {}\n",
    "for value in output:\n",
    "    if value in count_dict:\n",
    "        count_dict[value] += 1\n",
    "    else:\n",
    "        count_dict[value] = 1\n",
    "\n",
    "# Print the counts\n",
    "for key, value in count_dict.items():\n",
    "    print(f\"{key}: {value}\")"
   ]
  },
  {
   "cell_type": "code",
   "execution_count": 7,
   "metadata": {},
   "outputs": [
    {
     "data": {
      "text/plain": [
       "Progression list\n",
       "I V vi IV         13\n",
       "II# v IV           6\n",
       "vi I V II          6\n",
       "I V ii IV          5\n",
       "vi IV ii III       5\n",
       "                  ..\n",
       "I# vi# V#          1\n",
       "I iii IV I V       1\n",
       "I V IV vi V        1\n",
       "I iii IV I V I     1\n",
       "I IV               1\n",
       "Name: count, Length: 133, dtype: int64"
      ]
     },
     "execution_count": 7,
     "metadata": {},
     "output_type": "execute_result"
    }
   ],
   "source": [
    "newdata[\"Progression list\"].value_counts()"
   ]
  },
  {
   "cell_type": "code",
   "execution_count": 24,
   "metadata": {},
   "outputs": [],
   "source": [
    "from torch.utils.data import Dataset, DataLoader\n",
    "import torch\n",
    "\n",
    "from transformers import GPT2LMHeadModel, GPT2Tokenizer\n",
    "import torch\n",
    "\n",
    "model_name = \"gpt2\"\n",
    "model = GPT2LMHeadModel.from_pretrained(model_name)\n",
    "tokenizer = GPT2Tokenizer.from_pretrained(model_name)\n",
    "\n",
    "\n",
    "# Define the custom dataset and data loader\n",
    "class ChordDataset(Dataset):\n",
    "    def __init__(self, tokenized_dataset):\n",
    "        self.tokenized_dataset = tokenized_dataset\n",
    "\n",
    "    def __len__(self):\n",
    "        return len(self.tokenized_dataset[\"input_ids\"])\n",
    "\n",
    "    def __getitem__(self, idx):\n",
    "        return {\n",
    "            \"input_ids\": self.tokenized_dataset[\"input_ids\"][idx],\n",
    "            \"attention_mask\": self.tokenized_dataset[\"attention_mask\"][idx],\n",
    "        }\n",
    "    \n",
    "training_data = list(newdata[\"Progression list\"])\n",
    "\n",
    "# Tokenize the dataset\n",
    "tokenizer.pad_token = tokenizer.eos_token\n",
    "tokenized_dataset = tokenizer(training_data, return_tensors=\"pt\", padding=True, truncation=True)\n",
    "\n",
    "\n",
    "# Fine-tune the GPT-2 model on the chord progression dataset\n",
    "optimizer = torch.optim.AdamW(model.parameters(), lr=5e-5)\n",
    "loss_fn = torch.nn.CrossEntropyLoss()\n",
    "\n",
    "# Create an instance of the custom dataset and data loader\n",
    "chord_dataset = ChordDataset(tokenized_dataset)\n",
    "data_loader = DataLoader(chord_dataset, batch_size=2, shuffle=True)"
   ]
  },
  {
   "cell_type": "code",
   "execution_count": 25,
   "metadata": {},
   "outputs": [],
   "source": [
    "num_epochs = 3\n",
    "batch_size = 2\n",
    "\n",
    "for epoch in range(num_epochs):\n",
    "    for batch in data_loader:\n",
    "        inputs = {\n",
    "            \"input_ids\": batch[\"input_ids\"].to(torch.device(\"cuda\" if torch.cuda.is_available() else \"cpu\")),\n",
    "            \"attention_mask\": batch[\"attention_mask\"].to(torch.device(\"cuda\" if torch.cuda.is_available() else \"cpu\"))\n",
    "        }\n",
    "\n",
    "        outputs = model(**inputs)\n",
    "        loss = outputs.loss\n",
    "        loss.backward()\n",
    "        optimizer.step()\n",
    "        optimizer.zero_grad()\n",
    "\n",
    "    print(f\"Epoch {epoch + 1}, Loss: {loss.item()}\")"
   ]
  },
  {
   "cell_type": "code",
   "execution_count": 19,
   "metadata": {},
   "outputs": [
    {
     "name": "stderr",
     "output_type": "stream",
     "text": [
      "c:\\Users\\mally\\Leiden University [2022 -2024]\\3rd Sem\\API\\Final Project\\.venv\\lib\\site-packages\\transformers\\generation\\configuration_utils.py:381: UserWarning: `do_sample` is set to `False`. However, `temperature` is set to `0.3` -- this flag is only used in sample-based generation modes. You should set `do_sample=True` or unset `temperature`.\n",
      "  warnings.warn(\n"
     ]
    },
    {
     "name": "stdout",
     "output_type": "stream",
     "text": [
      "['I', 'V', 'vi', 'IV']\n"
     ]
    }
   ],
   "source": [
    "seed_chord = \"I\"\n",
    "input_ids = tokenizer.encode(seed_chord, return_tensors=\"pt\")\n",
    "output = model.generate(\n",
    "        input_ids,\n",
    "        max_length=10,\n",
    "        temperature=0.3,\n",
    "        pad_token_id=tokenizer.eos_token_id,\n",
    "        num_return_sequences=1,\n",
    "    )\n",
    "\n",
    "generated_chords = tokenizer.decode(output[0], skip_special_tokens=True)\n",
    "print(generated_chords.split(' '))"
   ]
  },
  {
   "cell_type": "code",
   "execution_count": 21,
   "metadata": {},
   "outputs": [
    {
     "data": {
      "text/plain": [
       "('fine_tuned_model_directory\\\\tokenizer_config.json',\n",
       " 'fine_tuned_model_directory\\\\special_tokens_map.json',\n",
       " 'fine_tuned_model_directory\\\\vocab.json',\n",
       " 'fine_tuned_model_directory\\\\merges.txt',\n",
       " 'fine_tuned_model_directory\\\\added_tokens.json')"
      ]
     },
     "execution_count": 21,
     "metadata": {},
     "output_type": "execute_result"
    }
   ],
   "source": [
    "model.save_pretrained('fine_tuned_model_directory')\n",
    "tokenizer.save_pretrained('fine_tuned_model_directory')"
   ]
  },
  {
   "cell_type": "code",
   "execution_count": 20,
   "metadata": {},
   "outputs": [
    {
     "data": {
      "text/plain": [
       "<_io.BufferedRandom name='guitar_music_output.wav'>"
      ]
     },
     "execution_count": 20,
     "metadata": {},
     "output_type": "execute_result"
    }
   ],
   "source": [
    "from pydub import AudioSegment\n",
    "from pydub.playback import play\n",
    "\n",
    "def generate_guitar_chord(file_path, duration=1000):\n",
    "    # Load guitar sample\n",
    "    guitar_chord = AudioSegment.from_file(file_path)\n",
    "\n",
    "    # Ensure the sample duration matches the desired duration\n",
    "    guitar_chord = guitar_chord[:duration]\n",
    "\n",
    "    return guitar_chord\n",
    "\n",
    "# Chord progression: I, VI#, v, IV\n",
    "chord_progression = generated_chords.split(' ')\n",
    "\n",
    "# Path to guitar samples (replace with your actual file paths)\n",
    "sample_paths = {\n",
    "    'I': r'C:\\Users\\mally\\Leiden University [2022 -2024]\\3rd Sem\\API\\Final Project\\C_AcousticGuitar_RodrigoMercador_1 (1).wav',\n",
    "    'V': r'C:\\Users\\mally\\Leiden University [2022 -2024]\\3rd Sem\\API\\Final Project\\G_AcousticGuitar_RodrigoMercador_1.wav',\n",
    "    'vi': r'C:\\Users\\mally\\Leiden University [2022 -2024]\\3rd Sem\\API\\Final Project\\Am_AcousticGuitar_RodrigoMercador_1.wav',\n",
    "    'IV': r'C:\\Users\\mally\\Leiden University [2022 -2024]\\3rd Sem\\API\\Final Project\\F_AcousticGuitar_RodrigoMercador_1.wav',\n",
    "    # 'VI#':,\n",
    "    'v':r\"C:\\Users\\mally\\Leiden University [2022 -2024]\\3rd Sem\\API\\Final Project\\guitar-chord-g-minor_G_minor.wav\",\n",
    "    'iii':r\"C:\\Users\\mally\\Leiden University [2022 -2024]\\3rd Sem\\API\\Final Project\\Em_AcousticGuitar_RodrigoMercador_1.wav\",\n",
    "    'ii':r\"C:\\Users\\mally\\Leiden University [2022 -2024]\\3rd Sem\\API\\Final Project\\Dm_AcousticGuitar_RodrigoMercador_1.wav\",\n",
    "    # 'I#':,\n",
    "    # 'III':,\n",
    "    # 'IV#':,\n",
    "    # 'II#':,\n",
    "    # 'II':,\n",
    "    'VIIb':r\"C:\\Users\\mally\\Leiden University [2022 -2024]\\3rd Sem\\API\\Final Project\\Bdim_AcousticGuitar_RodrigoMercador_1.wav\",\n",
    "    # 'i':,\n",
    "    # 'V#':,\n",
    "    'vii':r\"C:\\Users\\mally\\Leiden University [2022 -2024]\\3rd Sem\\API\\Final Project\\Bb_AcousticGuitar_RodrigoMercador_1.wav\"\n",
    "}\n",
    "\n",
    "# Generate audio for each chord and concatenate them\n",
    "full_music = AudioSegment.silent(duration=0)\n",
    "for chord_symbol in chord_progression:\n",
    "    if chord_symbol in sample_paths:\n",
    "        chord_audio = generate_guitar_chord(sample_paths[chord_symbol])\n",
    "        full_music += chord_audio\n",
    "    else:\n",
    "        print(f\"Chord '{chord_symbol}' not recognized.\")\n",
    "\n",
    "# Play the generated music\n",
    "full_music.export(\"guitar_music_output.wav\", format=\"wav\")"
   ]
  },
  {
   "cell_type": "code",
   "execution_count": 3,
   "metadata": {},
   "outputs": [
    {
     "ename": "FileNotFoundError",
     "evalue": "[WinError 2] The system cannot find the file specified",
     "output_type": "error",
     "traceback": [
      "\u001b[1;31m---------------------------------------------------------------------------\u001b[0m",
      "\u001b[1;31mFileNotFoundError\u001b[0m                         Traceback (most recent call last)",
      "Cell \u001b[1;32mIn[3], line 31\u001b[0m\n\u001b[0;32m     28\u001b[0m wav_filename \u001b[38;5;241m=\u001b[39m \u001b[38;5;124m'\u001b[39m\u001b[38;5;124mVIsharp_chord.wav\u001b[39m\u001b[38;5;124m'\u001b[39m\n\u001b[0;32m     30\u001b[0m generate_chord_midi(midi_filename, chord_frequencies)\n\u001b[1;32m---> 31\u001b[0m \u001b[43mconvert_midi_to_wav\u001b[49m\u001b[43m(\u001b[49m\u001b[43mmidi_filename\u001b[49m\u001b[43m,\u001b[49m\u001b[43m \u001b[49m\u001b[43mwav_filename\u001b[49m\u001b[43m)\u001b[49m\n",
      "Cell \u001b[1;32mIn[3], line 21\u001b[0m, in \u001b[0;36mconvert_midi_to_wav\u001b[1;34m(midi_filename, wav_filename)\u001b[0m\n\u001b[0;32m     18\u001b[0m soundfont_path \u001b[38;5;241m=\u001b[39m \u001b[38;5;124m'\u001b[39m\u001b[38;5;124mpath/to/soundfont.sf2\u001b[39m\u001b[38;5;124m'\u001b[39m  \u001b[38;5;66;03m# replace with a path to a soundfont file on your system\u001b[39;00m\n\u001b[0;32m     20\u001b[0m \u001b[38;5;66;03m# Convert MIDI to WAV using FluidSynth\u001b[39;00m\n\u001b[1;32m---> 21\u001b[0m \u001b[43msubprocess\u001b[49m\u001b[38;5;241;43m.\u001b[39;49m\u001b[43mrun\u001b[49m\u001b[43m(\u001b[49m\u001b[43m[\u001b[49m\u001b[43mfluidsynth_cmd\u001b[49m\u001b[43m,\u001b[49m\u001b[43m \u001b[49m\u001b[38;5;124;43m'\u001b[39;49m\u001b[38;5;124;43m-ni\u001b[39;49m\u001b[38;5;124;43m'\u001b[39;49m\u001b[43m,\u001b[49m\u001b[43m \u001b[49m\u001b[43msoundfont_path\u001b[49m\u001b[43m,\u001b[49m\u001b[43m \u001b[49m\u001b[43mmidi_filename\u001b[49m\u001b[43m,\u001b[49m\u001b[43m \u001b[49m\u001b[38;5;124;43m'\u001b[39;49m\u001b[38;5;124;43m-F\u001b[39;49m\u001b[38;5;124;43m'\u001b[39;49m\u001b[43m,\u001b[49m\u001b[43m \u001b[49m\u001b[43mwav_filename\u001b[49m\u001b[43m,\u001b[49m\u001b[43m \u001b[49m\u001b[38;5;124;43m'\u001b[39;49m\u001b[38;5;124;43m-r\u001b[39;49m\u001b[38;5;124;43m'\u001b[39;49m\u001b[43m,\u001b[49m\u001b[43m \u001b[49m\u001b[38;5;124;43m'\u001b[39;49m\u001b[38;5;124;43m44100\u001b[39;49m\u001b[38;5;124;43m'\u001b[39;49m\u001b[43m]\u001b[49m\u001b[43m)\u001b[49m\n",
      "File \u001b[1;32mC:\\Program Files\\WindowsApps\\PythonSoftwareFoundation.Python.3.10_3.10.3056.0_x64__qbz5n2kfra8p0\\lib\\subprocess.py:503\u001b[0m, in \u001b[0;36mrun\u001b[1;34m(input, capture_output, timeout, check, *popenargs, **kwargs)\u001b[0m\n\u001b[0;32m    500\u001b[0m     kwargs[\u001b[38;5;124m'\u001b[39m\u001b[38;5;124mstdout\u001b[39m\u001b[38;5;124m'\u001b[39m] \u001b[38;5;241m=\u001b[39m PIPE\n\u001b[0;32m    501\u001b[0m     kwargs[\u001b[38;5;124m'\u001b[39m\u001b[38;5;124mstderr\u001b[39m\u001b[38;5;124m'\u001b[39m] \u001b[38;5;241m=\u001b[39m PIPE\n\u001b[1;32m--> 503\u001b[0m \u001b[38;5;28;01mwith\u001b[39;00m Popen(\u001b[38;5;241m*\u001b[39mpopenargs, \u001b[38;5;241m*\u001b[39m\u001b[38;5;241m*\u001b[39mkwargs) \u001b[38;5;28;01mas\u001b[39;00m process:\n\u001b[0;32m    504\u001b[0m     \u001b[38;5;28;01mtry\u001b[39;00m:\n\u001b[0;32m    505\u001b[0m         stdout, stderr \u001b[38;5;241m=\u001b[39m process\u001b[38;5;241m.\u001b[39mcommunicate(\u001b[38;5;28minput\u001b[39m, timeout\u001b[38;5;241m=\u001b[39mtimeout)\n",
      "File \u001b[1;32mC:\\Program Files\\WindowsApps\\PythonSoftwareFoundation.Python.3.10_3.10.3056.0_x64__qbz5n2kfra8p0\\lib\\subprocess.py:971\u001b[0m, in \u001b[0;36mPopen.__init__\u001b[1;34m(self, args, bufsize, executable, stdin, stdout, stderr, preexec_fn, close_fds, shell, cwd, env, universal_newlines, startupinfo, creationflags, restore_signals, start_new_session, pass_fds, user, group, extra_groups, encoding, errors, text, umask, pipesize)\u001b[0m\n\u001b[0;32m    967\u001b[0m         \u001b[38;5;28;01mif\u001b[39;00m \u001b[38;5;28mself\u001b[39m\u001b[38;5;241m.\u001b[39mtext_mode:\n\u001b[0;32m    968\u001b[0m             \u001b[38;5;28mself\u001b[39m\u001b[38;5;241m.\u001b[39mstderr \u001b[38;5;241m=\u001b[39m io\u001b[38;5;241m.\u001b[39mTextIOWrapper(\u001b[38;5;28mself\u001b[39m\u001b[38;5;241m.\u001b[39mstderr,\n\u001b[0;32m    969\u001b[0m                     encoding\u001b[38;5;241m=\u001b[39mencoding, errors\u001b[38;5;241m=\u001b[39merrors)\n\u001b[1;32m--> 971\u001b[0m     \u001b[38;5;28;43mself\u001b[39;49m\u001b[38;5;241;43m.\u001b[39;49m\u001b[43m_execute_child\u001b[49m\u001b[43m(\u001b[49m\u001b[43margs\u001b[49m\u001b[43m,\u001b[49m\u001b[43m \u001b[49m\u001b[43mexecutable\u001b[49m\u001b[43m,\u001b[49m\u001b[43m \u001b[49m\u001b[43mpreexec_fn\u001b[49m\u001b[43m,\u001b[49m\u001b[43m \u001b[49m\u001b[43mclose_fds\u001b[49m\u001b[43m,\u001b[49m\n\u001b[0;32m    972\u001b[0m \u001b[43m                        \u001b[49m\u001b[43mpass_fds\u001b[49m\u001b[43m,\u001b[49m\u001b[43m \u001b[49m\u001b[43mcwd\u001b[49m\u001b[43m,\u001b[49m\u001b[43m \u001b[49m\u001b[43menv\u001b[49m\u001b[43m,\u001b[49m\n\u001b[0;32m    973\u001b[0m \u001b[43m                        \u001b[49m\u001b[43mstartupinfo\u001b[49m\u001b[43m,\u001b[49m\u001b[43m \u001b[49m\u001b[43mcreationflags\u001b[49m\u001b[43m,\u001b[49m\u001b[43m \u001b[49m\u001b[43mshell\u001b[49m\u001b[43m,\u001b[49m\n\u001b[0;32m    974\u001b[0m \u001b[43m                        \u001b[49m\u001b[43mp2cread\u001b[49m\u001b[43m,\u001b[49m\u001b[43m \u001b[49m\u001b[43mp2cwrite\u001b[49m\u001b[43m,\u001b[49m\n\u001b[0;32m    975\u001b[0m \u001b[43m                        \u001b[49m\u001b[43mc2pread\u001b[49m\u001b[43m,\u001b[49m\u001b[43m \u001b[49m\u001b[43mc2pwrite\u001b[49m\u001b[43m,\u001b[49m\n\u001b[0;32m    976\u001b[0m \u001b[43m                        \u001b[49m\u001b[43merrread\u001b[49m\u001b[43m,\u001b[49m\u001b[43m \u001b[49m\u001b[43merrwrite\u001b[49m\u001b[43m,\u001b[49m\n\u001b[0;32m    977\u001b[0m \u001b[43m                        \u001b[49m\u001b[43mrestore_signals\u001b[49m\u001b[43m,\u001b[49m\n\u001b[0;32m    978\u001b[0m \u001b[43m                        \u001b[49m\u001b[43mgid\u001b[49m\u001b[43m,\u001b[49m\u001b[43m \u001b[49m\u001b[43mgids\u001b[49m\u001b[43m,\u001b[49m\u001b[43m \u001b[49m\u001b[43muid\u001b[49m\u001b[43m,\u001b[49m\u001b[43m \u001b[49m\u001b[43mumask\u001b[49m\u001b[43m,\u001b[49m\n\u001b[0;32m    979\u001b[0m \u001b[43m                        \u001b[49m\u001b[43mstart_new_session\u001b[49m\u001b[43m)\u001b[49m\n\u001b[0;32m    980\u001b[0m \u001b[38;5;28;01mexcept\u001b[39;00m:\n\u001b[0;32m    981\u001b[0m     \u001b[38;5;66;03m# Cleanup if the child failed starting.\u001b[39;00m\n\u001b[0;32m    982\u001b[0m     \u001b[38;5;28;01mfor\u001b[39;00m f \u001b[38;5;129;01min\u001b[39;00m \u001b[38;5;28mfilter\u001b[39m(\u001b[38;5;28;01mNone\u001b[39;00m, (\u001b[38;5;28mself\u001b[39m\u001b[38;5;241m.\u001b[39mstdin, \u001b[38;5;28mself\u001b[39m\u001b[38;5;241m.\u001b[39mstdout, \u001b[38;5;28mself\u001b[39m\u001b[38;5;241m.\u001b[39mstderr)):\n",
      "File \u001b[1;32mC:\\Program Files\\WindowsApps\\PythonSoftwareFoundation.Python.3.10_3.10.3056.0_x64__qbz5n2kfra8p0\\lib\\subprocess.py:1456\u001b[0m, in \u001b[0;36mPopen._execute_child\u001b[1;34m(self, args, executable, preexec_fn, close_fds, pass_fds, cwd, env, startupinfo, creationflags, shell, p2cread, p2cwrite, c2pread, c2pwrite, errread, errwrite, unused_restore_signals, unused_gid, unused_gids, unused_uid, unused_umask, unused_start_new_session)\u001b[0m\n\u001b[0;32m   1454\u001b[0m \u001b[38;5;66;03m# Start the process\u001b[39;00m\n\u001b[0;32m   1455\u001b[0m \u001b[38;5;28;01mtry\u001b[39;00m:\n\u001b[1;32m-> 1456\u001b[0m     hp, ht, pid, tid \u001b[38;5;241m=\u001b[39m \u001b[43m_winapi\u001b[49m\u001b[38;5;241;43m.\u001b[39;49m\u001b[43mCreateProcess\u001b[49m\u001b[43m(\u001b[49m\u001b[43mexecutable\u001b[49m\u001b[43m,\u001b[49m\u001b[43m \u001b[49m\u001b[43margs\u001b[49m\u001b[43m,\u001b[49m\n\u001b[0;32m   1457\u001b[0m \u001b[43m                             \u001b[49m\u001b[38;5;66;43;03m# no special security\u001b[39;49;00m\n\u001b[0;32m   1458\u001b[0m \u001b[43m                             \u001b[49m\u001b[38;5;28;43;01mNone\u001b[39;49;00m\u001b[43m,\u001b[49m\u001b[43m \u001b[49m\u001b[38;5;28;43;01mNone\u001b[39;49;00m\u001b[43m,\u001b[49m\n\u001b[0;32m   1459\u001b[0m \u001b[43m                             \u001b[49m\u001b[38;5;28;43mint\u001b[39;49m\u001b[43m(\u001b[49m\u001b[38;5;129;43;01mnot\u001b[39;49;00m\u001b[43m \u001b[49m\u001b[43mclose_fds\u001b[49m\u001b[43m)\u001b[49m\u001b[43m,\u001b[49m\n\u001b[0;32m   1460\u001b[0m \u001b[43m                             \u001b[49m\u001b[43mcreationflags\u001b[49m\u001b[43m,\u001b[49m\n\u001b[0;32m   1461\u001b[0m \u001b[43m                             \u001b[49m\u001b[43menv\u001b[49m\u001b[43m,\u001b[49m\n\u001b[0;32m   1462\u001b[0m \u001b[43m                             \u001b[49m\u001b[43mcwd\u001b[49m\u001b[43m,\u001b[49m\n\u001b[0;32m   1463\u001b[0m \u001b[43m                             \u001b[49m\u001b[43mstartupinfo\u001b[49m\u001b[43m)\u001b[49m\n\u001b[0;32m   1464\u001b[0m \u001b[38;5;28;01mfinally\u001b[39;00m:\n\u001b[0;32m   1465\u001b[0m     \u001b[38;5;66;03m# Child is launched. Close the parent's copy of those pipe\u001b[39;00m\n\u001b[0;32m   1466\u001b[0m     \u001b[38;5;66;03m# handles that only the child should have open.  You need\u001b[39;00m\n\u001b[1;32m   (...)\u001b[0m\n\u001b[0;32m   1469\u001b[0m     \u001b[38;5;66;03m# pipe will not close when the child process exits and the\u001b[39;00m\n\u001b[0;32m   1470\u001b[0m     \u001b[38;5;66;03m# ReadFile will hang.\u001b[39;00m\n\u001b[0;32m   1471\u001b[0m     \u001b[38;5;28mself\u001b[39m\u001b[38;5;241m.\u001b[39m_close_pipe_fds(p2cread, p2cwrite,\n\u001b[0;32m   1472\u001b[0m                          c2pread, c2pwrite,\n\u001b[0;32m   1473\u001b[0m                          errread, errwrite)\n",
      "\u001b[1;31mFileNotFoundError\u001b[0m: [WinError 2] The system cannot find the file specified"
     ]
    }
   ],
   "source": [
    "import numpy as np\n",
    "from midiutil import MIDIFile\n",
    "import fluidsynth\n",
    "import subprocess\n",
    "\n",
    "def generate_chord_midi(filename, chord_frequencies, duration=4, tempo=120):\n",
    "    midi = MIDIFile(1)\n",
    "    midi.addTempo(0, 0, tempo)\n",
    "\n",
    "    for i, freq in enumerate(chord_frequencies):\n",
    "        midi.addNote(0, 0, i * 2, 60 + i, duration, 100)\n",
    "\n",
    "    with open(filename, 'wb') as midi_file:\n",
    "        midi.writeFile(midi_file)\n",
    "\n",
    "def convert_midi_to_wav(midi_filename, wav_filename):\n",
    "    fluidsynth_cmd = 'fluidsynth'\n",
    "    soundfont_path = 'path/to/soundfont.sf2'  # replace with a path to a soundfont file on your system\n",
    "\n",
    "    # Convert MIDI to WAV using FluidSynth\n",
    "    subprocess.run([fluidsynth_cmd, '-ni', soundfont_path, midi_filename, '-F', wav_filename, '-r', '44100'])\n",
    "\n",
    "if __name__ == '__main__':\n",
    "    # A major chord with a raised sixth (VI#) in the key of C major\n",
    "    chord_frequencies = [440.00, 554.37, 659.26]  # A, C#, E\n",
    "\n",
    "    midi_filename = 'VIsharp_chord.mid'\n",
    "    wav_filename = 'VIsharp_chord.wav'\n",
    "\n",
    "    generate_chord_midi(midi_filename, chord_frequencies)\n",
    "    convert_midi_to_wav(midi_filename, wav_filename)"
   ]
  },
  {
   "cell_type": "code",
   "execution_count": 2,
   "metadata": {},
   "outputs": [
    {
     "name": "stdout",
     "output_type": "stream",
     "text": [
      "Collecting fluidsynth\n",
      "  Downloading fluidsynth-0.2.tar.gz (3.7 kB)\n",
      "  Preparing metadata (setup.py): started\n",
      "  Preparing metadata (setup.py): finished with status 'done'\n",
      "Building wheels for collected packages: fluidsynth\n",
      "  Building wheel for fluidsynth (setup.py): started\n",
      "  Building wheel for fluidsynth (setup.py): finished with status 'done'\n",
      "  Created wheel for fluidsynth: filename=fluidsynth-0.2-py3-none-any.whl size=4496 sha256=76dba261677f8ed83c6cfeee92f8c92f8513c5f9a17cd9d33f05d9f611b92dd0\n",
      "  Stored in directory: c:\\users\\mally\\appdata\\local\\pip\\cache\\wheels\\72\\5a\\bf\\347b142f199fb1bea87f16f8970916226951bc359c947ba19b\n",
      "Successfully built fluidsynth\n",
      "Installing collected packages: fluidsynth\n",
      "Successfully installed fluidsynth-0.2\n"
     ]
    }
   ],
   "source": [
    "!pip install fluidsynth"
   ]
  },
  {
   "cell_type": "code",
   "execution_count": null,
   "metadata": {},
   "outputs": [],
   "source": []
  }
 ],
 "metadata": {
  "kernelspec": {
   "display_name": ".venv",
   "language": "python",
   "name": "python3"
  },
  "language_info": {
   "codemirror_mode": {
    "name": "ipython",
    "version": 3
   },
   "file_extension": ".py",
   "mimetype": "text/x-python",
   "name": "python",
   "nbconvert_exporter": "python",
   "pygments_lexer": "ipython3",
   "version": "3.10.11"
  }
 },
 "nbformat": 4,
 "nbformat_minor": 2
}
